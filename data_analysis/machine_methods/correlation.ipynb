{
 "cells": [
  {
   "cell_type": "code",
   "execution_count": 5,
   "metadata": {},
   "outputs": [
    {
     "name": "stdout",
     "output_type": "stream",
     "text": [
      "                 feature         VIF\n",
      "15             MaxForceZ  879.238687\n",
      "12             AvgForceZ  556.569100\n",
      "6                 RangeX  143.791299\n",
      "4                   COGZ  107.190782\n",
      "51       skew_norm_accel   58.378856\n",
      "37             skew_cogx   58.203726\n",
      "13             MaxForceX   55.515561\n",
      "34                skew_x   49.313547\n",
      "8                 RangeZ   48.807031\n",
      "16            kurtosis_x   45.077719\n",
      "43           skew_forceZ   44.470965\n",
      "19         kurtosis_cogx   32.887284\n",
      "25       kurtosis_forceZ   31.909418\n",
      "0            AvgVelcoity   28.105035\n",
      "36                skew_z   28.021919\n",
      "1            MaxVelocity   24.972321\n",
      "33   kurtosis_norm_accel   22.147466\n",
      "20         kurtosis_cogy   17.798350\n",
      "38             skew_cogy   17.198124\n",
      "35                skew_y   17.042576\n",
      "39             skew_cogz   15.340595\n",
      "17            kurtosis_y   14.992467\n",
      "2               AvgAccel   14.355208\n",
      "23       kurtosis_forceX   13.635456\n",
      "7                 RangeY   13.461489\n",
      "21         kurtosis_cogz   13.020502\n",
      "10             AvgForceX   12.458168\n",
      "5   PathLengthDifference   11.783707\n",
      "14             MaxForceY   11.599159\n",
      "3               MaxAccel   11.557445\n",
      "31      kurtosis_y_accel   11.475753\n",
      "18            kurtosis_z   10.138198\n",
      "9            TimeElapsed   10.067718\n",
      "32      kurtosis_z_accel    8.632409\n",
      "41           skew_forceX    7.549669\n",
      "27        kurtosis_y_vel    6.275145\n",
      "30      kurtosis_x_accel    5.921128\n",
      "29     kurtosis_norm_vel    4.728062\n",
      "22         kurtosis_area    4.544259\n",
      "40             skew_area    4.481836\n",
      "28        kurtosis_z_vel    4.080290\n",
      "48          skew_x_accel    3.609635\n",
      "26        kurtosis_x_vel    3.022153\n",
      "44            skew_x_vel    2.678159\n",
      "50          skew_z_accel    2.676890\n",
      "47         skew_norm_vel    2.386836\n",
      "46            skew_z_vel    2.352504\n",
      "24       kurtosis_forceY    2.144793\n",
      "45            skew_y_vel    1.999673\n",
      "49          skew_y_accel    1.785257\n",
      "11             AvgForceY    1.538642\n",
      "42           skew_forceY    1.506381\n"
     ]
    }
   ],
   "source": [
    "import pandas as pd\n",
    "import numpy as np\n",
    "from statsmodels.stats.outliers_influence import variance_inflation_factor\n",
    "\n",
    "rs = np.random.RandomState(0)\n",
    "#pd.read_csv('C:\\\\Users\\\\nnamd\\\\Documents\\\\GitHub\\\\kinova_share\\\\data_analysis\\\\robot_data.csv')\n",
    "df = pd.read_csv('C:\\\\Users\\\\nnamd\\\\Documents\\\\GitHub\\\\kinova_share\\\\data_analysis\\\\pull_from\\\\ConfidenceFilter\\\\reduced_kurt_skew.csv')\n",
    "df = df.drop('id',axis=1)\n",
    "df = df.drop('condition',axis=1)\n",
    "corr = df.corr()\n",
    "corr.style.background_gradient(cmap='coolwarm')\n",
    "\n",
    "#Getting Variance Inflation Factor\n",
    "vif_data = pd.DataFrame()\n",
    "vif_data[\"feature\"] = df.columns\n",
    "\n",
    "# calculating VIF for each feature\n",
    "vif_data[\"VIF\"] = [variance_inflation_factor(df.values, i)\n",
    "                          for i in range(len(df.columns))]\n",
    "\n",
    "print(vif_data.sort_values('VIF', ascending=False))"
   ]
  }
 ],
 "metadata": {
  "kernelspec": {
   "display_name": "Python 3",
   "language": "python",
   "name": "python3"
  },
  "language_info": {
   "codemirror_mode": {
    "name": "ipython",
    "version": 3
   },
   "file_extension": ".py",
   "mimetype": "text/x-python",
   "name": "python",
   "nbconvert_exporter": "python",
   "pygments_lexer": "ipython3",
   "version": "3.8.10"
  }
 },
 "nbformat": 4,
 "nbformat_minor": 2
}
